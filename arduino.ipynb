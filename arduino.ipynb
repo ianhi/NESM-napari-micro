{
 "cells": [
  {
   "cell_type": "code",
   "execution_count": 1,
   "id": "749590a6-e510-4855-bc5a-adf7426137c1",
   "metadata": {
    "execution": {
     "iopub.execute_input": "2022-05-20T02:41:59.238089Z",
     "iopub.status.busy": "2022-05-20T02:41:59.237073Z",
     "iopub.status.idle": "2022-05-20T02:41:59.572052Z",
     "shell.execute_reply": "2022-05-20T02:41:59.571231Z",
     "shell.execute_reply.started": "2022-05-20T02:41:59.237871Z"
    },
    "tags": []
   },
   "outputs": [],
   "source": [
    "import napari\n",
    "from pymmcore_plus import CMMCorePlus\n",
    "import numpy as np"
   ]
  },
  {
   "cell_type": "code",
   "execution_count": 2,
   "id": "22068bd8-ada9-4076-826c-5153dead2efb",
   "metadata": {
    "execution": {
     "iopub.execute_input": "2022-05-20T02:41:59.573494Z",
     "iopub.status.busy": "2022-05-20T02:41:59.573281Z",
     "iopub.status.idle": "2022-05-20T02:42:03.024022Z",
     "shell.execute_reply": "2022-05-20T02:42:03.023162Z",
     "shell.execute_reply.started": "2022-05-20T02:41:59.573467Z"
    },
    "tags": []
   },
   "outputs": [
    {
     "name": "stderr",
     "output_type": "stream",
     "text": [
      "2022-05-19 22:42:02.813 | DEBUG    | pymmcore_plus._util:find_micromanager:47 - using MM path found in applications: /usr/local/lib/micro-manager\n",
      "2022-05-19 22:42:02.814 | INFO     | pymmcore_plus.core._mmcore_plus:setDeviceAdapterSearchPaths:152 - setting adapter search paths: ['/usr/local/lib/micro-manager']\n",
      "2022-05-19 22:42:02.894 | DEBUG    | pymmcore_plus._util:find_micromanager:47 - using MM path found in applications: /usr/local/lib/micro-manager\n"
     ]
    }
   ],
   "source": [
    "v = napari.Viewer()\n",
    "dw, main_window = v.window.add_plugin_dock_widget(\"napari-micromanager\")\n",
    "core = CMMCorePlus.instance()\n",
    "core.loadSystemConfiguration()"
   ]
  },
  {
   "cell_type": "markdown",
   "id": "ec4a1fa8-45c7-4c42-929d-fb199045946d",
   "metadata": {},
   "source": [
    "## Silly example of real world feedback depending on conditions\n",
    "\n"
   ]
  },
  {
   "cell_type": "code",
   "execution_count": 3,
   "id": "9fd4a480-95d9-4e37-ab0b-9513961082a3",
   "metadata": {
    "execution": {
     "iopub.execute_input": "2022-05-20T02:42:03.038694Z",
     "iopub.status.busy": "2022-05-20T02:42:03.037206Z",
     "iopub.status.idle": "2022-05-20T02:42:03.049688Z",
     "shell.execute_reply": "2022-05-20T02:42:03.048555Z",
     "shell.execute_reply.started": "2022-05-20T02:42:03.038624Z"
    },
    "tags": []
   },
   "outputs": [],
   "source": [
    "from arduino_widget import FakeLaser"
   ]
  },
  {
   "cell_type": "code",
   "execution_count": 4,
   "id": "4857c29c-bc05-441c-8d31-f132348131e6",
   "metadata": {
    "execution": {
     "iopub.execute_input": "2022-05-20T02:42:03.051883Z",
     "iopub.status.busy": "2022-05-20T02:42:03.051322Z",
     "iopub.status.idle": "2022-05-20T02:42:03.057246Z",
     "shell.execute_reply": "2022-05-20T02:42:03.056241Z",
     "shell.execute_reply.started": "2022-05-20T02:42:03.051835Z"
    },
    "tags": []
   },
   "outputs": [],
   "source": [
    "arduino  = FakeLaser('/dev/ttyACM0')"
   ]
  },
  {
   "cell_type": "code",
   "execution_count": 5,
   "id": "8fb2c46c-5c07-4da9-bba5-6c3461a8a266",
   "metadata": {
    "execution": {
     "iopub.execute_input": "2022-05-20T02:42:09.618158Z",
     "iopub.status.busy": "2022-05-20T02:42:09.617513Z",
     "iopub.status.idle": "2022-05-20T02:42:09.630037Z",
     "shell.execute_reply": "2022-05-20T02:42:09.626694Z",
     "shell.execute_reply.started": "2022-05-20T02:42:09.618085Z"
    },
    "tags": []
   },
   "outputs": [],
   "source": [
    "arduino.set_brightness(255)"
   ]
  },
  {
   "cell_type": "code",
   "execution_count": 7,
   "id": "374199ad-98d4-48d1-81a6-d931808efee0",
   "metadata": {
    "execution": {
     "iopub.execute_input": "2022-05-20T02:42:41.672212Z",
     "iopub.status.busy": "2022-05-20T02:42:41.671563Z",
     "iopub.status.idle": "2022-05-20T02:42:41.699873Z",
     "shell.execute_reply": "2022-05-20T02:42:41.698783Z",
     "shell.execute_reply.started": "2022-05-20T02:42:41.672139Z"
    },
    "tags": []
   },
   "outputs": [
    {
     "data": {
      "text/plain": [
       "<bound PYQT_SIGNAL exposureChanged of QCoreSignaler object at 0x7fd82e5db400>"
      ]
     },
     "execution_count": 7,
     "metadata": {},
     "output_type": "execute_result"
    }
   ],
   "source": [
    "core.events.exposureChanged.connect()"
   ]
  },
  {
   "cell_type": "code",
   "execution_count": 10,
   "id": "19cf8507-d932-47c4-951c-b019266e6f2d",
   "metadata": {
    "execution": {
     "iopub.execute_input": "2022-05-20T02:52:34.766546Z",
     "iopub.status.busy": "2022-05-20T02:52:34.764561Z",
     "iopub.status.idle": "2022-05-20T02:52:34.777125Z",
     "shell.execute_reply": "2022-05-20T02:52:34.774995Z",
     "shell.execute_reply.started": "2022-05-20T02:52:34.766450Z"
    },
    "tags": []
   },
   "outputs": [],
   "source": [
    "def ledFromExp(exp, min_exp=5, max_exp=200):\n",
    "    val = np.clip(((exp-min_exp) / max_exp)*255, 0 ,255)\n",
    "    arduino.set_brightness(val)"
   ]
  },
  {
   "cell_type": "code",
   "execution_count": 13,
   "id": "44e958f0-a134-4ac8-ba87-1719a869012b",
   "metadata": {
    "execution": {
     "iopub.execute_input": "2022-05-20T02:52:44.095592Z",
     "iopub.status.busy": "2022-05-20T02:52:44.095172Z",
     "iopub.status.idle": "2022-05-20T02:52:44.103831Z",
     "shell.execute_reply": "2022-05-20T02:52:44.102087Z",
     "shell.execute_reply.started": "2022-05-20T02:52:44.095547Z"
    },
    "tags": []
   },
   "outputs": [
    {
     "name": "stdout",
     "output_type": "stream",
     "text": [
      "255.0\n"
     ]
    }
   ],
   "source": [
    "ledFromExp()"
   ]
  },
  {
   "cell_type": "code",
   "execution_count": null,
   "id": "2567beef-9d85-4fb2-b7d6-e1947527b27b",
   "metadata": {},
   "outputs": [],
   "source": []
  }
 ],
 "metadata": {
  "kernelspec": {
   "display_name": "Python 3 (ipykernel)",
   "language": "python",
   "name": "python3"
  },
  "language_info": {
   "codemirror_mode": {
    "name": "ipython",
    "version": 3
   },
   "file_extension": ".py",
   "mimetype": "text/x-python",
   "name": "python",
   "nbconvert_exporter": "python",
   "pygments_lexer": "ipython3",
   "version": "3.9.12"
  },
  "widgets": {
   "application/vnd.jupyter.widget-state+json": {
    "state": {},
    "version_major": 2,
    "version_minor": 0
   }
  }
 },
 "nbformat": 4,
 "nbformat_minor": 5
}
