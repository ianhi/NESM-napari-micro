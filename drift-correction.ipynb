{
 "cells": [
  {
   "cell_type": "code",
   "execution_count": 1,
   "id": "b227d0c7-01a4-4596-b30f-0d74ab60b671",
   "metadata": {
    "execution": {
     "iopub.execute_input": "2022-05-20T15:27:20.969085Z",
     "iopub.status.busy": "2022-05-20T15:27:20.967899Z",
     "iopub.status.idle": "2022-05-20T15:27:22.836698Z",
     "shell.execute_reply": "2022-05-20T15:27:22.835589Z",
     "shell.execute_reply.started": "2022-05-20T15:27:20.968839Z"
    },
    "tags": []
   },
   "outputs": [],
   "source": [
    "%matplotlib ipympl\n",
    "import matplotlib.pyplot as plt\n",
    "import napari\n",
    "import numpy as np\n",
    "from mpl_interactions import hyperslicer\n",
    "from pymmcore_mda_engines import DriftCorrectionEngine, ImageGenerator\n",
    "from pymmcore_plus import CMMCorePlus\n",
    "from skimage.registration import phase_cross_correlation\n",
    "from useq import MDASequence"
   ]
  },
  {
   "cell_type": "code",
   "execution_count": 2,
   "id": "856062e4-4575-4ac0-bb55-6e223d2c37e9",
   "metadata": {
    "execution": {
     "iopub.execute_input": "2022-05-20T15:27:24.988678Z",
     "iopub.status.busy": "2022-05-20T15:27:24.987549Z",
     "iopub.status.idle": "2022-05-20T15:27:28.778357Z",
     "shell.execute_reply": "2022-05-20T15:27:28.777452Z",
     "shell.execute_reply.started": "2022-05-20T15:27:24.988598Z"
    },
    "tags": []
   },
   "outputs": [
    {
     "name": "stderr",
     "output_type": "stream",
     "text": [
      "2022-05-20 11:27:28.436 | DEBUG    | pymmcore_plus._util:find_micromanager:47 - using MM path found in applications: /usr/local/lib/micro-manager\n",
      "2022-05-20 11:27:28.438 | INFO     | pymmcore_plus.core._mmcore_plus:setDeviceAdapterSearchPaths:152 - setting adapter search paths: ['/usr/local/lib/micro-manager']\n",
      "2022-05-20 11:27:28.699 | DEBUG    | pymmcore_plus._util:find_micromanager:47 - using MM path found in applications: /usr/local/lib/micro-manager\n"
     ]
    }
   ],
   "source": [
    "v = napari.Viewer()\n",
    "dw, main_window = v.window.add_plugin_dock_widget(\"napari-micromanager\")\n",
    "main_window.mda.acquisition_order_comboBox.setCurrentText(\"tpcz\")\n",
    "# main_window.mda\n",
    "core = CMMCorePlus.instance()\n",
    "core.loadSystemConfiguration()\n",
    "img_gen = ImageGenerator(5000, radius_loc=15, step_scale=(1,1), radius_scale=3, XY_stage_drift=(10, 2))\n",
    "engine = DriftCorrectionEngine()\n",
    "core.register_mda_engine(engine)\n",
    "engine.register_image_generator(img_gen)\n",
    "\n",
    "mda = MDASequence(\n",
    "    # stage_positions=[(0, 100, 30), (700, 150, 35)],\n",
    "    stage_positions=[(0, 100, 30)],\n",
    "    channels=[\"DAPI\"],\n",
    "    time_plan={\"interval\": 0.25, \"loops\": 25},\n",
    "    # z_plan={\"range\": 4, \"step\": 0.5},\n",
    "    axis_order=\"tpcz\",\n",
    ")\n"
   ]
  },
  {
   "cell_type": "code",
   "execution_count": null,
   "id": "19b3d109-5c43-4a17-9cf2-8edfcc2ee9c2",
   "metadata": {},
   "outputs": [],
   "source": []
  },
  {
   "cell_type": "markdown",
   "id": "bcd6f7d2-b68f-4f7b-8244-32c2ae34d91b",
   "metadata": {
    "tags": []
   },
   "source": [
    "## Make a minimal algorithim to correct for drift\n",
    "\n",
    "Using a simple comparison of pixel shift relative to the previous frame in the same position. While we kept this simple for the demo there are lots of ways we could make this more sophisticated. Crucially expanding on this doesn't require starting from scratch, we can easily build on this."
   ]
  },
  {
   "cell_type": "code",
   "execution_count": 3,
   "id": "9759dd42-8efb-4f2f-9ae2-5777449d165d",
   "metadata": {
    "execution": {
     "iopub.execute_input": "2022-05-20T15:25:40.009833Z",
     "iopub.status.busy": "2022-05-20T15:25:40.009118Z",
     "iopub.status.idle": "2022-05-20T15:25:40.018113Z",
     "shell.execute_reply": "2022-05-20T15:25:40.017416Z",
     "shell.execute_reply.started": "2022-05-20T15:25:40.009791Z"
    },
    "tags": []
   },
   "outputs": [],
   "source": [
    "from collections import defaultdict\n",
    "\n",
    "\n",
    "class DriftAdjuster:\n",
    "    def __init__(self, engine: DriftCorrectionEngine):\n",
    "        self._engine = engine\n",
    "        self._lastImage = {}\n",
    "        self._engine.events.frameReady.connect(self._onFrame)\n",
    "        self._engine.events.sequenceStarted.connect(self._onStart)\n",
    "        self._active=True\n",
    "\n",
    "    def _onStart(self, sequence: MDASequence):\n",
    "        # clear our cache of images\n",
    "        self._lastImage = {}\n",
    "\n",
    "    def _onFrame(self, img, event):\n",
    "        \n",
    "        p = event.index[\"p\"]\n",
    "        # grab our stored last image in this position\n",
    "        prev_image = self._lastImage.get(p, None)\n",
    "    \n",
    "        if prev_image is not None and self._active:\n",
    "            # calculate the drift correction amount\n",
    "            # this could get much more sophisticated!\n",
    "            adjustment = phase_cross_correlation(prev_image, img)\n",
    "            self._engine.drift_correction[p] += adjustment[0][:2]\n",
    "\n",
    "        self._lastImage[event.index[\"p\"]] = img\n",
    "\n",
    "    # below makes life nicer but is not critical\n",
    "    @property\n",
    "    def active(self) -> bool:\n",
    "        return self._active\n",
    "\n",
    "    @active.setter\n",
    "    def active(self, val: bool):\n",
    "        self._active = bool(val)\n",
    "\n",
    "\n"
   ]
  },
  {
   "cell_type": "code",
   "execution_count": 4,
   "id": "64f0a385-8b9b-4007-8029-b51319173b0c",
   "metadata": {
    "execution": {
     "iopub.execute_input": "2022-05-20T15:25:51.199411Z",
     "iopub.status.busy": "2022-05-20T15:25:51.198451Z",
     "iopub.status.idle": "2022-05-20T15:25:51.212378Z",
     "shell.execute_reply": "2022-05-20T15:25:51.209477Z",
     "shell.execute_reply.started": "2022-05-20T15:25:51.199332Z"
    },
    "tags": []
   },
   "outputs": [
    {
     "name": "stderr",
     "output_type": "stream",
     "text": [
      "2022-05-20 11:26:23.454 | INFO     | pymmcore_plus.mda._engine:_prepare_to_run:122 - MDA Started: Multi-Dimensional Acquisition ▶ nt: 20, np: 2, nc: 1, nz: 0\n",
      "2022-05-20 11:26:23.459 | INFO     | pymmcore_mda_engines._engines:run:67 - metadata={} index={'t': 0, 'p': 0, 'c': 0} channel=Channel(config='Cy5') exposure=100.0 min_start_time=0.0 x_pos=-0.0 y_pos=-0.0 z_pos=None properties=None\n",
      "2022-05-20 11:26:23.590 | INFO     | pymmcore_mda_engines._engines:run:67 - metadata={} index={'t': 0, 'p': 1, 'c': 0} channel=Channel(config='Cy5') exposure=100.0 min_start_time=0.0 x_pos=1999.995 y_pos=-0.0 z_pos=None properties=None\n",
      "2022-05-20 11:26:23.835 | INFO     | pymmcore_mda_engines._engines:run:67 - metadata={} index={'t': 1, 'p': 0, 'c': 0} channel=Channel(config='Cy5') exposure=100.0 min_start_time=0.001 x_pos=-0.0 y_pos=-0.0 z_pos=None properties=None\n",
      "2022-05-20 11:26:23.916 | INFO     | pymmcore_mda_engines._engines:run:67 - metadata={} index={'t': 1, 'p': 1, 'c': 0} channel=Channel(config='Cy5') exposure=100.0 min_start_time=0.001 x_pos=1999.995 y_pos=-0.0 z_pos=None properties=None\n",
      "2022-05-20 11:26:23.986 | INFO     | pymmcore_mda_engines._engines:run:67 - metadata={} index={'t': 2, 'p': 0, 'c': 0} channel=Channel(config='Cy5') exposure=100.0 min_start_time=0.002 x_pos=-0.0 y_pos=-0.0 z_pos=None properties=None\n",
      "2022-05-20 11:26:24.053 | INFO     | pymmcore_mda_engines._engines:run:67 - metadata={} index={'t': 2, 'p': 1, 'c': 0} channel=Channel(config='Cy5') exposure=100.0 min_start_time=0.002 x_pos=1999.995 y_pos=-0.0 z_pos=None properties=None\n",
      "2022-05-20 11:26:24.109 | INFO     | pymmcore_mda_engines._engines:run:67 - metadata={} index={'t': 3, 'p': 0, 'c': 0} channel=Channel(config='Cy5') exposure=100.0 min_start_time=0.003 x_pos=-0.0 y_pos=-0.0 z_pos=None properties=None\n",
      "2022-05-20 11:26:24.169 | INFO     | pymmcore_mda_engines._engines:run:67 - metadata={} index={'t': 3, 'p': 1, 'c': 0} channel=Channel(config='Cy5') exposure=100.0 min_start_time=0.003 x_pos=1999.995 y_pos=-0.0 z_pos=None properties=None\n",
      "2022-05-20 11:26:24.220 | INFO     | pymmcore_mda_engines._engines:run:67 - metadata={} index={'t': 4, 'p': 0, 'c': 0} channel=Channel(config='Cy5') exposure=100.0 min_start_time=0.004 x_pos=-0.0 y_pos=-0.0 z_pos=None properties=None\n",
      "2022-05-20 11:26:24.264 | INFO     | pymmcore_mda_engines._engines:run:67 - metadata={} index={'t': 4, 'p': 1, 'c': 0} channel=Channel(config='Cy5') exposure=100.0 min_start_time=0.004 x_pos=1999.995 y_pos=-0.0 z_pos=None properties=None\n",
      "2022-05-20 11:26:24.311 | INFO     | pymmcore_mda_engines._engines:run:67 - metadata={} index={'t': 5, 'p': 0, 'c': 0} channel=Channel(config='Cy5') exposure=100.0 min_start_time=0.005 x_pos=-0.0 y_pos=-0.0 z_pos=None properties=None\n",
      "2022-05-20 11:26:24.377 | INFO     | pymmcore_mda_engines._engines:run:67 - metadata={} index={'t': 5, 'p': 1, 'c': 0} channel=Channel(config='Cy5') exposure=100.0 min_start_time=0.005 x_pos=1999.995 y_pos=-0.0 z_pos=None properties=None\n",
      "2022-05-20 11:26:24.420 | INFO     | pymmcore_mda_engines._engines:run:67 - metadata={} index={'t': 6, 'p': 0, 'c': 0} channel=Channel(config='Cy5') exposure=100.0 min_start_time=0.006 x_pos=-0.0 y_pos=-0.0 z_pos=None properties=None\n",
      "2022-05-20 11:26:24.461 | INFO     | pymmcore_mda_engines._engines:run:67 - metadata={} index={'t': 6, 'p': 1, 'c': 0} channel=Channel(config='Cy5') exposure=100.0 min_start_time=0.006 x_pos=1999.995 y_pos=-0.0 z_pos=None properties=None\n",
      "2022-05-20 11:26:24.502 | INFO     | pymmcore_mda_engines._engines:run:67 - metadata={} index={'t': 7, 'p': 0, 'c': 0} channel=Channel(config='Cy5') exposure=100.0 min_start_time=0.007 x_pos=-0.0 y_pos=-0.0 z_pos=None properties=None\n",
      "2022-05-20 11:26:24.535 | INFO     | pymmcore_mda_engines._engines:run:67 - metadata={} index={'t': 7, 'p': 1, 'c': 0} channel=Channel(config='Cy5') exposure=100.0 min_start_time=0.007 x_pos=1999.995 y_pos=-0.0 z_pos=None properties=None\n",
      "2022-05-20 11:26:24.563 | INFO     | pymmcore_mda_engines._engines:run:67 - metadata={} index={'t': 8, 'p': 0, 'c': 0} channel=Channel(config='Cy5') exposure=100.0 min_start_time=0.008 x_pos=-0.0 y_pos=-0.0 z_pos=None properties=None\n",
      "2022-05-20 11:26:24.600 | INFO     | pymmcore_mda_engines._engines:run:67 - metadata={} index={'t': 8, 'p': 1, 'c': 0} channel=Channel(config='Cy5') exposure=100.0 min_start_time=0.008 x_pos=1999.995 y_pos=-0.0 z_pos=None properties=None\n",
      "2022-05-20 11:26:24.646 | INFO     | pymmcore_mda_engines._engines:run:67 - metadata={} index={'t': 9, 'p': 0, 'c': 0} channel=Channel(config='Cy5') exposure=100.0 min_start_time=0.009 x_pos=-0.0 y_pos=-0.0 z_pos=None properties=None\n",
      "2022-05-20 11:26:24.892 | INFO     | pymmcore_mda_engines._engines:run:67 - metadata={} index={'t': 9, 'p': 1, 'c': 0} channel=Channel(config='Cy5') exposure=100.0 min_start_time=0.009 x_pos=1999.995 y_pos=-0.0 z_pos=None properties=None\n",
      "2022-05-20 11:26:25.133 | INFO     | pymmcore_mda_engines._engines:run:67 - metadata={} index={'t': 10, 'p': 0, 'c': 0} channel=Channel(config='Cy5') exposure=100.0 min_start_time=0.01 x_pos=-0.0 y_pos=-0.0 z_pos=None properties=None\n",
      "2022-05-20 11:26:25.397 | INFO     | pymmcore_mda_engines._engines:run:67 - metadata={} index={'t': 10, 'p': 1, 'c': 0} channel=Channel(config='Cy5') exposure=100.0 min_start_time=0.01 x_pos=1999.995 y_pos=-0.0 z_pos=None properties=None\n",
      "2022-05-20 11:26:25.634 | INFO     | pymmcore_mda_engines._engines:run:67 - metadata={} index={'t': 11, 'p': 0, 'c': 0} channel=Channel(config='Cy5') exposure=100.0 min_start_time=0.011 x_pos=-0.0 y_pos=-0.0 z_pos=None properties=None\n",
      "2022-05-20 11:26:25.863 | INFO     | pymmcore_mda_engines._engines:run:67 - metadata={} index={'t': 11, 'p': 1, 'c': 0} channel=Channel(config='Cy5') exposure=100.0 min_start_time=0.011 x_pos=1999.995 y_pos=-0.0 z_pos=None properties=None\n",
      "2022-05-20 11:26:26.104 | INFO     | pymmcore_mda_engines._engines:run:67 - metadata={} index={'t': 12, 'p': 0, 'c': 0} channel=Channel(config='Cy5') exposure=100.0 min_start_time=0.012 x_pos=-0.0 y_pos=-0.0 z_pos=None properties=None\n",
      "2022-05-20 11:26:26.353 | INFO     | pymmcore_mda_engines._engines:run:67 - metadata={} index={'t': 12, 'p': 1, 'c': 0} channel=Channel(config='Cy5') exposure=100.0 min_start_time=0.012 x_pos=1999.995 y_pos=-0.0 z_pos=None properties=None\n",
      "2022-05-20 11:26:26.592 | INFO     | pymmcore_mda_engines._engines:run:67 - metadata={} index={'t': 13, 'p': 0, 'c': 0} channel=Channel(config='Cy5') exposure=100.0 min_start_time=0.013 x_pos=-0.0 y_pos=-0.0 z_pos=None properties=None\n",
      "2022-05-20 11:26:26.834 | INFO     | pymmcore_mda_engines._engines:run:67 - metadata={} index={'t': 13, 'p': 1, 'c': 0} channel=Channel(config='Cy5') exposure=100.0 min_start_time=0.013 x_pos=1999.995 y_pos=-0.0 z_pos=None properties=None\n",
      "2022-05-20 11:26:27.074 | INFO     | pymmcore_mda_engines._engines:run:67 - metadata={} index={'t': 14, 'p': 0, 'c': 0} channel=Channel(config='Cy5') exposure=100.0 min_start_time=0.014 x_pos=-0.0 y_pos=-0.0 z_pos=None properties=None\n",
      "2022-05-20 11:26:27.328 | INFO     | pymmcore_mda_engines._engines:run:67 - metadata={} index={'t': 14, 'p': 1, 'c': 0} channel=Channel(config='Cy5') exposure=100.0 min_start_time=0.014 x_pos=1999.995 y_pos=-0.0 z_pos=None properties=None\n",
      "2022-05-20 11:26:27.563 | INFO     | pymmcore_mda_engines._engines:run:67 - metadata={} index={'t': 15, 'p': 0, 'c': 0} channel=Channel(config='Cy5') exposure=100.0 min_start_time=0.015 x_pos=-0.0 y_pos=-0.0 z_pos=None properties=None\n",
      "2022-05-20 11:26:27.800 | INFO     | pymmcore_mda_engines._engines:run:67 - metadata={} index={'t': 15, 'p': 1, 'c': 0} channel=Channel(config='Cy5') exposure=100.0 min_start_time=0.015 x_pos=1999.995 y_pos=-0.0 z_pos=None properties=None\n",
      "2022-05-20 11:26:28.045 | INFO     | pymmcore_mda_engines._engines:run:67 - metadata={} index={'t': 16, 'p': 0, 'c': 0} channel=Channel(config='Cy5') exposure=100.0 min_start_time=0.016 x_pos=-0.0 y_pos=-0.0 z_pos=None properties=None\n",
      "2022-05-20 11:26:28.297 | INFO     | pymmcore_mda_engines._engines:run:67 - metadata={} index={'t': 16, 'p': 1, 'c': 0} channel=Channel(config='Cy5') exposure=100.0 min_start_time=0.016 x_pos=1999.995 y_pos=-0.0 z_pos=None properties=None\n",
      "2022-05-20 11:26:28.555 | INFO     | pymmcore_mda_engines._engines:run:67 - metadata={} index={'t': 17, 'p': 0, 'c': 0} channel=Channel(config='Cy5') exposure=100.0 min_start_time=0.017 x_pos=-0.0 y_pos=-0.0 z_pos=None properties=None\n",
      "2022-05-20 11:26:28.789 | INFO     | pymmcore_mda_engines._engines:run:67 - metadata={} index={'t': 17, 'p': 1, 'c': 0} channel=Channel(config='Cy5') exposure=100.0 min_start_time=0.017 x_pos=1999.995 y_pos=-0.0 z_pos=None properties=None\n",
      "2022-05-20 11:26:29.017 | INFO     | pymmcore_mda_engines._engines:run:67 - metadata={} index={'t': 18, 'p': 0, 'c': 0} channel=Channel(config='Cy5') exposure=100.0 min_start_time=0.018 x_pos=-0.0 y_pos=-0.0 z_pos=None properties=None\n",
      "2022-05-20 11:26:29.257 | INFO     | pymmcore_mda_engines._engines:run:67 - metadata={} index={'t': 18, 'p': 1, 'c': 0} channel=Channel(config='Cy5') exposure=100.0 min_start_time=0.018 x_pos=1999.995 y_pos=-0.0 z_pos=None properties=None\n",
      "2022-05-20 11:26:29.495 | INFO     | pymmcore_mda_engines._engines:run:67 - metadata={} index={'t': 19, 'p': 0, 'c': 0} channel=Channel(config='Cy5') exposure=100.0 min_start_time=0.019 x_pos=-0.0 y_pos=-0.0 z_pos=None properties=None\n",
      "2022-05-20 11:26:29.741 | INFO     | pymmcore_mda_engines._engines:run:67 - metadata={} index={'t': 19, 'p': 1, 'c': 0} channel=Channel(config='Cy5') exposure=100.0 min_start_time=0.019 x_pos=1999.995 y_pos=-0.0 z_pos=None properties=None\n",
      "2022-05-20 11:26:30.009 | INFO     | pymmcore_plus.mda._engine:_finish_run:234 - MDA Finished: Multi-Dimensional Acquisition ▶ nt: 20, np: 2, nc: 1, nz: 0\n"
     ]
    }
   ],
   "source": [
    "adjuster = DriftAdjuster(engine)\n",
    "# adjuster.active = False"
   ]
  },
  {
   "cell_type": "code",
   "execution_count": 5,
   "id": "ac5a6ebc-dde1-46fc-a7e9-351c2bbdc977",
   "metadata": {
    "execution": {
     "iopub.execute_input": "2022-05-20T15:23:50.242762Z",
     "iopub.status.busy": "2022-05-20T15:23:50.241836Z",
     "iopub.status.idle": "2022-05-20T15:23:50.255086Z",
     "shell.execute_reply": "2022-05-20T15:23:50.251296Z",
     "shell.execute_reply.started": "2022-05-20T15:23:50.242682Z"
    }
   },
   "outputs": [
    {
     "name": "stderr",
     "output_type": "stream",
     "text": [
      "2022-05-20 11:23:52.473 | INFO     | pymmcore_plus.mda._engine:_prepare_to_run:122 - MDA Started: Multi-Dimensional Acquisition ▶ nt: 20, np: 2, nc: 1, nz: 0\n",
      "2022-05-20 11:23:52.496 | INFO     | pymmcore_mda_engines._engines:run:67 - metadata={} index={'t': 0, 'p': 0, 'c': 0} channel=Channel(config='Cy5') exposure=100.0 min_start_time=0.0 x_pos=-0.0 y_pos=-0.0 z_pos=None properties=None\n",
      "2022-05-20 11:23:52.829 | INFO     | pymmcore_mda_engines._engines:run:67 - metadata={} index={'t': 0, 'p': 1, 'c': 0} channel=Channel(config='Cy5') exposure=100.0 min_start_time=0.0 x_pos=-0.0 y_pos=1999.995 z_pos=None properties=None\n",
      "2022-05-20 11:23:53.495 | INFO     | pymmcore_mda_engines._engines:run:67 - metadata={} index={'t': 1, 'p': 0, 'c': 0} channel=Channel(config='Cy5') exposure=100.0 min_start_time=1.0 x_pos=-0.0 y_pos=-0.0 z_pos=None properties=None\n",
      "2022-05-20 11:23:53.745 | INFO     | pymmcore_mda_engines._engines:run:67 - metadata={} index={'t': 1, 'p': 1, 'c': 0} channel=Channel(config='Cy5') exposure=100.0 min_start_time=1.0 x_pos=-0.0 y_pos=1999.995 z_pos=None properties=None\n",
      "2022-05-20 11:23:54.494 | INFO     | pymmcore_mda_engines._engines:run:67 - metadata={} index={'t': 2, 'p': 0, 'c': 0} channel=Channel(config='Cy5') exposure=100.0 min_start_time=2.0 x_pos=-0.0 y_pos=-0.0 z_pos=None properties=None\n",
      "2022-05-20 11:23:54.757 | INFO     | pymmcore_mda_engines._engines:run:67 - metadata={} index={'t': 2, 'p': 1, 'c': 0} channel=Channel(config='Cy5') exposure=100.0 min_start_time=2.0 x_pos=-0.0 y_pos=1999.995 z_pos=None properties=None\n",
      "2022-05-20 11:23:55.495 | INFO     | pymmcore_mda_engines._engines:run:67 - metadata={} index={'t': 3, 'p': 0, 'c': 0} channel=Channel(config='Cy5') exposure=100.0 min_start_time=3.0 x_pos=-0.0 y_pos=-0.0 z_pos=None properties=None\n",
      "2022-05-20 11:23:55.779 | INFO     | pymmcore_mda_engines._engines:run:67 - metadata={} index={'t': 3, 'p': 1, 'c': 0} channel=Channel(config='Cy5') exposure=100.0 min_start_time=3.0 x_pos=-0.0 y_pos=1999.995 z_pos=None properties=None\n",
      "2022-05-20 11:23:56.495 | INFO     | pymmcore_mda_engines._engines:run:67 - metadata={} index={'t': 4, 'p': 0, 'c': 0} channel=Channel(config='Cy5') exposure=100.0 min_start_time=4.0 x_pos=-0.0 y_pos=-0.0 z_pos=None properties=None\n",
      "2022-05-20 11:23:56.754 | INFO     | pymmcore_mda_engines._engines:run:67 - metadata={} index={'t': 4, 'p': 1, 'c': 0} channel=Channel(config='Cy5') exposure=100.0 min_start_time=4.0 x_pos=-0.0 y_pos=1999.995 z_pos=None properties=None\n",
      "2022-05-20 11:23:57.495 | INFO     | pymmcore_mda_engines._engines:run:67 - metadata={} index={'t': 5, 'p': 0, 'c': 0} channel=Channel(config='Cy5') exposure=100.0 min_start_time=5.0 x_pos=-0.0 y_pos=-0.0 z_pos=None properties=None\n",
      "2022-05-20 11:23:57.757 | INFO     | pymmcore_mda_engines._engines:run:67 - metadata={} index={'t': 5, 'p': 1, 'c': 0} channel=Channel(config='Cy5') exposure=100.0 min_start_time=5.0 x_pos=-0.0 y_pos=1999.995 z_pos=None properties=None\n",
      "2022-05-20 11:23:58.495 | INFO     | pymmcore_mda_engines._engines:run:67 - metadata={} index={'t': 6, 'p': 0, 'c': 0} channel=Channel(config='Cy5') exposure=100.0 min_start_time=6.0 x_pos=-0.0 y_pos=-0.0 z_pos=None properties=None\n",
      "2022-05-20 11:23:58.765 | INFO     | pymmcore_mda_engines._engines:run:67 - metadata={} index={'t': 6, 'p': 1, 'c': 0} channel=Channel(config='Cy5') exposure=100.0 min_start_time=6.0 x_pos=-0.0 y_pos=1999.995 z_pos=None properties=None\n",
      "2022-05-20 11:23:59.495 | INFO     | pymmcore_mda_engines._engines:run:67 - metadata={} index={'t': 7, 'p': 0, 'c': 0} channel=Channel(config='Cy5') exposure=100.0 min_start_time=7.0 x_pos=-0.0 y_pos=-0.0 z_pos=None properties=None\n",
      "2022-05-20 11:23:59.766 | INFO     | pymmcore_mda_engines._engines:run:67 - metadata={} index={'t': 7, 'p': 1, 'c': 0} channel=Channel(config='Cy5') exposure=100.0 min_start_time=7.0 x_pos=-0.0 y_pos=1999.995 z_pos=None properties=None\n",
      "2022-05-20 11:24:00.495 | INFO     | pymmcore_mda_engines._engines:run:67 - metadata={} index={'t': 8, 'p': 0, 'c': 0} channel=Channel(config='Cy5') exposure=100.0 min_start_time=8.0 x_pos=-0.0 y_pos=-0.0 z_pos=None properties=None\n",
      "2022-05-20 11:24:00.768 | INFO     | pymmcore_mda_engines._engines:run:67 - metadata={} index={'t': 8, 'p': 1, 'c': 0} channel=Channel(config='Cy5') exposure=100.0 min_start_time=8.0 x_pos=-0.0 y_pos=1999.995 z_pos=None properties=None\n",
      "2022-05-20 11:24:01.495 | INFO     | pymmcore_mda_engines._engines:run:67 - metadata={} index={'t': 9, 'p': 0, 'c': 0} channel=Channel(config='Cy5') exposure=100.0 min_start_time=9.0 x_pos=-0.0 y_pos=-0.0 z_pos=None properties=None\n",
      "2022-05-20 11:24:01.776 | INFO     | pymmcore_mda_engines._engines:run:67 - metadata={} index={'t': 9, 'p': 1, 'c': 0} channel=Channel(config='Cy5') exposure=100.0 min_start_time=9.0 x_pos=-0.0 y_pos=1999.995 z_pos=None properties=None\n",
      "2022-05-20 11:24:02.495 | INFO     | pymmcore_mda_engines._engines:run:67 - metadata={} index={'t': 10, 'p': 0, 'c': 0} channel=Channel(config='Cy5') exposure=100.0 min_start_time=10.0 x_pos=-0.0 y_pos=-0.0 z_pos=None properties=None\n",
      "2022-05-20 11:24:02.759 | INFO     | pymmcore_mda_engines._engines:run:67 - metadata={} index={'t': 10, 'p': 1, 'c': 0} channel=Channel(config='Cy5') exposure=100.0 min_start_time=10.0 x_pos=-0.0 y_pos=1999.995 z_pos=None properties=None\n",
      "2022-05-20 11:24:03.500 | INFO     | pymmcore_mda_engines._engines:run:67 - metadata={} index={'t': 11, 'p': 0, 'c': 0} channel=Channel(config='Cy5') exposure=100.0 min_start_time=11.0 x_pos=-0.0 y_pos=-0.0 z_pos=None properties=None\n",
      "2022-05-20 11:24:03.780 | INFO     | pymmcore_mda_engines._engines:run:67 - metadata={} index={'t': 11, 'p': 1, 'c': 0} channel=Channel(config='Cy5') exposure=100.0 min_start_time=11.0 x_pos=-0.0 y_pos=1999.995 z_pos=None properties=None\n",
      "2022-05-20 11:24:04.495 | INFO     | pymmcore_mda_engines._engines:run:67 - metadata={} index={'t': 12, 'p': 0, 'c': 0} channel=Channel(config='Cy5') exposure=100.0 min_start_time=12.0 x_pos=-0.0 y_pos=-0.0 z_pos=None properties=None\n",
      "2022-05-20 11:24:04.758 | INFO     | pymmcore_mda_engines._engines:run:67 - metadata={} index={'t': 12, 'p': 1, 'c': 0} channel=Channel(config='Cy5') exposure=100.0 min_start_time=12.0 x_pos=-0.0 y_pos=1999.995 z_pos=None properties=None\n",
      "2022-05-20 11:24:05.495 | INFO     | pymmcore_mda_engines._engines:run:67 - metadata={} index={'t': 13, 'p': 0, 'c': 0} channel=Channel(config='Cy5') exposure=100.0 min_start_time=13.0 x_pos=-0.0 y_pos=-0.0 z_pos=None properties=None\n",
      "2022-05-20 11:24:05.773 | INFO     | pymmcore_mda_engines._engines:run:67 - metadata={} index={'t': 13, 'p': 1, 'c': 0} channel=Channel(config='Cy5') exposure=100.0 min_start_time=13.0 x_pos=-0.0 y_pos=1999.995 z_pos=None properties=None\n",
      "2022-05-20 11:24:06.496 | INFO     | pymmcore_mda_engines._engines:run:67 - metadata={} index={'t': 14, 'p': 0, 'c': 0} channel=Channel(config='Cy5') exposure=100.0 min_start_time=14.0 x_pos=-0.0 y_pos=-0.0 z_pos=None properties=None\n",
      "2022-05-20 11:24:06.775 | INFO     | pymmcore_mda_engines._engines:run:67 - metadata={} index={'t': 14, 'p': 1, 'c': 0} channel=Channel(config='Cy5') exposure=100.0 min_start_time=14.0 x_pos=-0.0 y_pos=1999.995 z_pos=None properties=None\n",
      "2022-05-20 11:24:07.495 | INFO     | pymmcore_mda_engines._engines:run:67 - metadata={} index={'t': 15, 'p': 0, 'c': 0} channel=Channel(config='Cy5') exposure=100.0 min_start_time=15.0 x_pos=-0.0 y_pos=-0.0 z_pos=None properties=None\n",
      "2022-05-20 11:24:07.757 | INFO     | pymmcore_mda_engines._engines:run:67 - metadata={} index={'t': 15, 'p': 1, 'c': 0} channel=Channel(config='Cy5') exposure=100.0 min_start_time=15.0 x_pos=-0.0 y_pos=1999.995 z_pos=None properties=None\n",
      "2022-05-20 11:24:08.497 | INFO     | pymmcore_mda_engines._engines:run:67 - metadata={} index={'t': 16, 'p': 0, 'c': 0} channel=Channel(config='Cy5') exposure=100.0 min_start_time=16.0 x_pos=-0.0 y_pos=-0.0 z_pos=None properties=None\n",
      "2022-05-20 11:24:08.777 | INFO     | pymmcore_mda_engines._engines:run:67 - metadata={} index={'t': 16, 'p': 1, 'c': 0} channel=Channel(config='Cy5') exposure=100.0 min_start_time=16.0 x_pos=-0.0 y_pos=1999.995 z_pos=None properties=None\n",
      "2022-05-20 11:24:09.495 | INFO     | pymmcore_mda_engines._engines:run:67 - metadata={} index={'t': 17, 'p': 0, 'c': 0} channel=Channel(config='Cy5') exposure=100.0 min_start_time=17.0 x_pos=-0.0 y_pos=-0.0 z_pos=None properties=None\n",
      "2022-05-20 11:24:09.761 | INFO     | pymmcore_mda_engines._engines:run:67 - metadata={} index={'t': 17, 'p': 1, 'c': 0} channel=Channel(config='Cy5') exposure=100.0 min_start_time=17.0 x_pos=-0.0 y_pos=1999.995 z_pos=None properties=None\n",
      "2022-05-20 11:24:10.495 | INFO     | pymmcore_mda_engines._engines:run:67 - metadata={} index={'t': 18, 'p': 0, 'c': 0} channel=Channel(config='Cy5') exposure=100.0 min_start_time=18.0 x_pos=-0.0 y_pos=-0.0 z_pos=None properties=None\n",
      "2022-05-20 11:24:10.772 | INFO     | pymmcore_mda_engines._engines:run:67 - metadata={} index={'t': 18, 'p': 1, 'c': 0} channel=Channel(config='Cy5') exposure=100.0 min_start_time=18.0 x_pos=-0.0 y_pos=1999.995 z_pos=None properties=None\n",
      "2022-05-20 11:24:11.495 | INFO     | pymmcore_mda_engines._engines:run:67 - metadata={} index={'t': 19, 'p': 0, 'c': 0} channel=Channel(config='Cy5') exposure=100.0 min_start_time=19.0 x_pos=-0.0 y_pos=-0.0 z_pos=None properties=None\n",
      "2022-05-20 11:24:11.760 | INFO     | pymmcore_mda_engines._engines:run:67 - metadata={} index={'t': 19, 'p': 1, 'c': 0} channel=Channel(config='Cy5') exposure=100.0 min_start_time=19.0 x_pos=-0.0 y_pos=1999.995 z_pos=None properties=None\n",
      "2022-05-20 11:24:11.996 | INFO     | pymmcore_plus.mda._engine:_finish_run:234 - MDA Finished: Multi-Dimensional Acquisition ▶ nt: 20, np: 2, nc: 1, nz: 0\n"
     ]
    }
   ],
   "source": [
    "adjuster.active = False"
   ]
  },
  {
   "cell_type": "code",
   "execution_count": null,
   "id": "37a20f11-26fd-45a5-8a9e-79f479863e38",
   "metadata": {},
   "outputs": [],
   "source": []
  },
  {
   "cell_type": "code",
   "execution_count": null,
   "id": "83214f71-fe81-4eca-92bb-bcd453525829",
   "metadata": {},
   "outputs": [],
   "source": []
  }
 ],
 "metadata": {
  "kernelspec": {
   "display_name": "Python 3 (ipykernel)",
   "language": "python",
   "name": "python3"
  },
  "language_info": {
   "codemirror_mode": {
    "name": "ipython",
    "version": 3
   },
   "file_extension": ".py",
   "mimetype": "text/x-python",
   "name": "python",
   "nbconvert_exporter": "python",
   "pygments_lexer": "ipython3",
   "version": "3.9.12"
  },
  "widgets": {
   "application/vnd.jupyter.widget-state+json": {
    "state": {},
    "version_major": 2,
    "version_minor": 0
   }
  }
 },
 "nbformat": 4,
 "nbformat_minor": 5
}
